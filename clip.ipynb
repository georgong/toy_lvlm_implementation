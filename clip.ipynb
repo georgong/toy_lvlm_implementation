{
 "cells": [
  {
   "cell_type": "markdown",
   "id": "4a43bf36",
   "metadata": {},
   "source": [
    "## CLIP(Contrastive Language-Image Pre-Training)"
   ]
  },
  {
   "cell_type": "markdown",
   "id": "b19a52c1",
   "metadata": {},
   "source": [
    "![CLIP_architecture](assets/clip_image1.png)"
   ]
  },
  {
   "cell_type": "code",
   "execution_count": 1,
   "id": "2e4a1fea",
   "metadata": {},
   "outputs": [],
   "source": [
    "from clip import Flickr8kValidationSet,VisualEncoder,TextEncoder,Flickr8kDataset,image_transform\n",
    "from tqdm import tqdm    \n",
    "from datasets import load_dataset\n",
    "from torchvision import transforms\n",
    "import torch\n",
    "import torch.nn.functional as F"
   ]
  },
  {
   "cell_type": "code",
   "execution_count": null,
   "id": "33145204",
   "metadata": {},
   "outputs": [],
   "source": []
  },
  {
   "cell_type": "code",
   "execution_count": 2,
   "id": "e75fb8ce",
   "metadata": {},
   "outputs": [
    {
     "name": "stderr",
     "output_type": "stream",
     "text": [
      "You are using the default legacy behaviour of the <class 'transformers.models.t5.tokenization_t5.T5Tokenizer'>. This is expected, and simply means that the `legacy` (previous) behavior will be used so nothing changes for you. If you want to use the new behaviour, set `legacy=False`. This should only be set if you understand what it means, and thoroughly read the reason why this was added as explained in https://github.com/huggingface/transformers/pull/24565\n",
      "Some weights of ViTModel were not initialized from the model checkpoint at google/vit-base-patch16-224 and are newly initialized: ['pooler.dense.bias', 'pooler.dense.weight']\n",
      "You should probably TRAIN this model on a down-stream task to be able to use it for predictions and inference.\n"
     ]
    }
   ],
   "source": [
    "from util import get_device\n",
    "device =  get_device()\n",
    "transform = transforms.Compose([\n",
    "    transforms.Resize((224, 224)),  # Resize to 224x224\n",
    "    transforms.ToTensor(),          # Convert to [0,1] tensor, shape: [C, H, W]\n",
    "])\n",
    "flickr8k = load_dataset(\"jxie/flickr8k\", data_dir=\"data\")\n",
    "text_encoder = TextEncoder().to(device)\n",
    "visual_encoder = VisualEncoder().to(device)\n",
    "temperature = 0.02 \n",
    "num_epochs = 2\n",
    "from torch.utils.data import DataLoader\n",
    "train_data = flickr8k[\"train\"]\n",
    "train_dataset = Flickr8kDataset(train_data, transform=image_transform)\n",
    "batch_size = 64"
   ]
  },
  {
   "cell_type": "code",
   "execution_count": 3,
   "id": "dea12512",
   "metadata": {},
   "outputs": [
    {
     "name": "stderr",
     "output_type": "stream",
     "text": [
      "loss:2.782959461212158:  40%|████      | 151/375 [01:28<02:11,  1.71it/s] \n"
     ]
    },
    {
     "ename": "KeyboardInterrupt",
     "evalue": "",
     "output_type": "error",
     "traceback": [
      "\u001b[0;31m---------------------------------------------------------------------------\u001b[0m",
      "\u001b[0;31mKeyboardInterrupt\u001b[0m                         Traceback (most recent call last)",
      "Cell \u001b[0;32mIn[3], line 13\u001b[0m\n\u001b[1;32m     11\u001b[0m text \u001b[38;5;241m=\u001b[39m batch[\u001b[38;5;241m1\u001b[39m]\n\u001b[1;32m     12\u001b[0m visual_embed \u001b[38;5;241m=\u001b[39m visual_encoder\u001b[38;5;241m.\u001b[39mforward(image)\n\u001b[0;32m---> 13\u001b[0m text_embed \u001b[38;5;241m=\u001b[39m text_encoder\u001b[38;5;241m.\u001b[39mforward(text)\n\u001b[1;32m     14\u001b[0m visual_embed\u001b[38;5;241m.\u001b[39mshape,text_embed\u001b[38;5;241m.\u001b[39mshape\n\u001b[1;32m     15\u001b[0m norm_visual_embed \u001b[38;5;241m=\u001b[39m F\u001b[38;5;241m.\u001b[39mnormalize(visual_embed)\n",
      "File \u001b[0;32m~/Desktop/repo/research/toy_lvlm_implementation/clip.py:47\u001b[0m, in \u001b[0;36mTextEncoder.forward\u001b[0;34m(self, texts)\u001b[0m\n\u001b[1;32m     39\u001b[0m \u001b[38;5;28;01mif\u001b[39;00m \u001b[38;5;28misinstance\u001b[39m(texts, \u001b[38;5;28mstr\u001b[39m):\n\u001b[1;32m     40\u001b[0m     texts \u001b[38;5;241m=\u001b[39m [texts]\n\u001b[1;32m     42\u001b[0m tokenized \u001b[38;5;241m=\u001b[39m \u001b[38;5;28mself\u001b[39m\u001b[38;5;241m.\u001b[39mtokenizer(\n\u001b[1;32m     43\u001b[0m     texts,\n\u001b[1;32m     44\u001b[0m     return_tensors\u001b[38;5;241m=\u001b[39m\u001b[38;5;124m\"\u001b[39m\u001b[38;5;124mpt\u001b[39m\u001b[38;5;124m\"\u001b[39m,\n\u001b[1;32m     45\u001b[0m     padding\u001b[38;5;241m=\u001b[39m\u001b[38;5;28;01mTrue\u001b[39;00m,\n\u001b[1;32m     46\u001b[0m     truncation\u001b[38;5;241m=\u001b[39m\u001b[38;5;28;01mTrue\u001b[39;00m\n\u001b[0;32m---> 47\u001b[0m )\u001b[38;5;241m.\u001b[39mto(\u001b[38;5;28mself\u001b[39m\u001b[38;5;241m.\u001b[39mencoder\u001b[38;5;241m.\u001b[39mdevice)\n\u001b[1;32m     49\u001b[0m \u001b[38;5;66;03m# 调用 encoder（跳过 decoder/labels）\u001b[39;00m\n\u001b[1;32m     50\u001b[0m encoder_outputs \u001b[38;5;241m=\u001b[39m \u001b[38;5;28mself\u001b[39m\u001b[38;5;241m.\u001b[39mencoder\u001b[38;5;241m.\u001b[39mencoder(\n\u001b[1;32m     51\u001b[0m     input_ids\u001b[38;5;241m=\u001b[39mtokenized\u001b[38;5;241m.\u001b[39minput_ids,\n\u001b[1;32m     52\u001b[0m     attention_mask\u001b[38;5;241m=\u001b[39mtokenized\u001b[38;5;241m.\u001b[39mattention_mask,\n\u001b[1;32m     53\u001b[0m     return_dict\u001b[38;5;241m=\u001b[39m\u001b[38;5;28;01mTrue\u001b[39;00m,\n\u001b[1;32m     54\u001b[0m     output_hidden_states\u001b[38;5;241m=\u001b[39m\u001b[38;5;28;01mTrue\u001b[39;00m\n\u001b[1;32m     55\u001b[0m )\n",
      "File \u001b[0;32m/opt/anaconda3/lib/python3.12/site-packages/transformers/tokenization_utils_base.py:821\u001b[0m, in \u001b[0;36mBatchEncoding.to\u001b[0;34m(self, device, non_blocking)\u001b[0m\n\u001b[1;32m    816\u001b[0m \u001b[38;5;66;03m# This check catches things like APEX blindly calling \"to\" on all inputs to a module\u001b[39;00m\n\u001b[1;32m    817\u001b[0m \u001b[38;5;66;03m# Otherwise it passes the casts down and casts the LongTensor containing the token idxs\u001b[39;00m\n\u001b[1;32m    818\u001b[0m \u001b[38;5;66;03m# into a HalfTensor\u001b[39;00m\n\u001b[1;32m    819\u001b[0m \u001b[38;5;28;01mif\u001b[39;00m \u001b[38;5;28misinstance\u001b[39m(device, \u001b[38;5;28mstr\u001b[39m) \u001b[38;5;129;01mor\u001b[39;00m is_torch_device(device) \u001b[38;5;129;01mor\u001b[39;00m \u001b[38;5;28misinstance\u001b[39m(device, \u001b[38;5;28mint\u001b[39m):\n\u001b[1;32m    820\u001b[0m     \u001b[38;5;28mself\u001b[39m\u001b[38;5;241m.\u001b[39mdata \u001b[38;5;241m=\u001b[39m {\n\u001b[0;32m--> 821\u001b[0m         k: v\u001b[38;5;241m.\u001b[39mto(device\u001b[38;5;241m=\u001b[39mdevice, non_blocking\u001b[38;5;241m=\u001b[39mnon_blocking) \u001b[38;5;28;01mif\u001b[39;00m \u001b[38;5;28misinstance\u001b[39m(v, torch\u001b[38;5;241m.\u001b[39mTensor) \u001b[38;5;28;01melse\u001b[39;00m v\n\u001b[1;32m    822\u001b[0m         \u001b[38;5;28;01mfor\u001b[39;00m k, v \u001b[38;5;129;01min\u001b[39;00m \u001b[38;5;28mself\u001b[39m\u001b[38;5;241m.\u001b[39mdata\u001b[38;5;241m.\u001b[39mitems()\n\u001b[1;32m    823\u001b[0m     }\n\u001b[1;32m    824\u001b[0m \u001b[38;5;28;01melse\u001b[39;00m:\n\u001b[1;32m    825\u001b[0m     logger\u001b[38;5;241m.\u001b[39mwarning(\u001b[38;5;124mf\u001b[39m\u001b[38;5;124m\"\u001b[39m\u001b[38;5;124mAttempting to cast a BatchEncoding to type \u001b[39m\u001b[38;5;132;01m{\u001b[39;00m\u001b[38;5;28mstr\u001b[39m(device)\u001b[38;5;132;01m}\u001b[39;00m\u001b[38;5;124m. This is not supported.\u001b[39m\u001b[38;5;124m\"\u001b[39m)\n",
      "\u001b[0;31mKeyboardInterrupt\u001b[0m: "
     ]
    }
   ],
   "source": [
    "optimizer = torch.optim.AdamW(\n",
    "list(visual_encoder.parameters()) + list(text_encoder.parameters()),\n",
    "lr=1e-4,\n",
    "weight_decay=1e-5\n",
    ")\n",
    "train_loader = DataLoader(train_dataset, batch_size=batch_size, shuffle=True)\n",
    "for _ in range(num_epochs):\n",
    "    pbar = tqdm(train_loader)\n",
    "    for batch in pbar:\n",
    "        image = batch[0].to(device)\n",
    "        text = batch[1]\n",
    "        visual_embed = visual_encoder.forward(image)\n",
    "        text_embed = text_encoder.forward(text)\n",
    "        visual_embed.shape,text_embed.shape\n",
    "        norm_visual_embed = F.normalize(visual_embed)\n",
    "        norm_text_embed = F.normalize(text_embed)\n",
    "        logits = norm_visual_embed @ norm_text_embed.T\n",
    "        logits = logits / temperature\n",
    "        batch_size = logits.size(0)\n",
    "        labels = torch.arange(batch_size, device=logits.device)\n",
    "        loss_i2t = F.cross_entropy(logits, labels)        # 图像作为 query，文本作为 target\n",
    "        loss_t2i = F.cross_entropy(logits.T, labels)      # 文本作为 query，图像作为 target\n",
    "        loss = (loss_i2t + loss_t2i) / 2\n",
    "        loss.backward()\n",
    "        pbar.set_description(f\"loss:{loss.item()}\")\n",
    "        optimizer.step()\n",
    "        optimizer.zero_grad()"
   ]
  },
  {
   "cell_type": "code",
   "execution_count": null,
   "id": "062a4f15",
   "metadata": {},
   "outputs": [],
   "source": []
  }
 ],
 "metadata": {
  "kernelspec": {
   "display_name": "base",
   "language": "python",
   "name": "python3"
  },
  "language_info": {
   "codemirror_mode": {
    "name": "ipython",
    "version": 3
   },
   "file_extension": ".py",
   "mimetype": "text/x-python",
   "name": "python",
   "nbconvert_exporter": "python",
   "pygments_lexer": "ipython3",
   "version": "3.12.7"
  }
 },
 "nbformat": 4,
 "nbformat_minor": 5
}
