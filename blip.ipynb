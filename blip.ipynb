{
 "cells": [
  {
   "cell_type": "markdown",
   "id": "89d73b47",
   "metadata": {},
   "source": [
    "## BLIP(Bootstrapping Language-Image Pre-training)"
   ]
  },
  {
   "cell_type": "markdown",
   "id": "b2697839",
   "metadata": {},
   "source": [
    "### General Idea:\n",
    "#### BLIP apply a multimodal mixure of Encoder-Decoder(MED) structure"
   ]
  }
 ],
 "metadata": {
  "kernelspec": {
   "display_name": "base",
   "language": "python",
   "name": "python3"
  },
  "language_info": {
   "name": "python",
   "version": "3.12.7"
  }
 },
 "nbformat": 4,
 "nbformat_minor": 5
}
